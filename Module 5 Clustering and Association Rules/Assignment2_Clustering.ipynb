{
 "cells": [
  {
   "cell_type": "code",
   "execution_count": 1,
   "metadata": {},
   "outputs": [],
   "source": [
    "from sklearn.cluster import KMeans\n",
    "import pandas as pd\n",
    "import numpy as np\n"
   ]
  },
  {
   "cell_type": "markdown",
   "metadata": {},
   "source": [
    "### Load the file into a dataframe"
   ]
  },
  {
   "cell_type": "code",
   "execution_count": 2,
   "metadata": {},
   "outputs": [],
   "source": [
    "FILE_NAME = 'housing.csv'\n",
    "datHousing = pd.read_csv(FILE_NAME)\n"
   ]
  },
  {
   "cell_type": "markdown",
   "metadata": {},
   "source": [
    "### Inspect the top rows"
   ]
  },
  {
   "cell_type": "code",
   "execution_count": 3,
   "metadata": {},
   "outputs": [
    {
     "data": {
      "text/html": [
       "<div>\n",
       "<style scoped>\n",
       "    .dataframe tbody tr th:only-of-type {\n",
       "        vertical-align: middle;\n",
       "    }\n",
       "\n",
       "    .dataframe tbody tr th {\n",
       "        vertical-align: top;\n",
       "    }\n",
       "\n",
       "    .dataframe thead th {\n",
       "        text-align: right;\n",
       "    }\n",
       "</style>\n",
       "<table border=\"1\" class=\"dataframe\">\n",
       "  <thead>\n",
       "    <tr style=\"text-align: right;\">\n",
       "      <th></th>\n",
       "      <th>CRIM</th>\n",
       "      <th>ZN</th>\n",
       "      <th>INDUS</th>\n",
       "      <th>RIVER</th>\n",
       "      <th>NOX</th>\n",
       "      <th>RM</th>\n",
       "      <th>AGE</th>\n",
       "      <th>DIS</th>\n",
       "      <th>RAD</th>\n",
       "      <th>TAX</th>\n",
       "      <th>PRATIO</th>\n",
       "      <th>LSTAT</th>\n",
       "      <th>MEDV</th>\n",
       "    </tr>\n",
       "  </thead>\n",
       "  <tbody>\n",
       "    <tr>\n",
       "      <th>0</th>\n",
       "      <td>3.32105</td>\n",
       "      <td>0.0</td>\n",
       "      <td>19.58</td>\n",
       "      <td>Yes</td>\n",
       "      <td>0.871</td>\n",
       "      <td>5.403</td>\n",
       "      <td>100.0</td>\n",
       "      <td>1.3216</td>\n",
       "      <td>5</td>\n",
       "      <td>403</td>\n",
       "      <td>14.7</td>\n",
       "      <td>26.82</td>\n",
       "      <td>13.4</td>\n",
       "    </tr>\n",
       "    <tr>\n",
       "      <th>1</th>\n",
       "      <td>1.12658</td>\n",
       "      <td>0.0</td>\n",
       "      <td>19.58</td>\n",
       "      <td>Yes</td>\n",
       "      <td>0.871</td>\n",
       "      <td>5.012</td>\n",
       "      <td>88.0</td>\n",
       "      <td>1.6102</td>\n",
       "      <td>5</td>\n",
       "      <td>403</td>\n",
       "      <td>14.7</td>\n",
       "      <td>12.12</td>\n",
       "      <td>15.3</td>\n",
       "    </tr>\n",
       "    <tr>\n",
       "      <th>2</th>\n",
       "      <td>1.41385</td>\n",
       "      <td>0.0</td>\n",
       "      <td>19.58</td>\n",
       "      <td>Yes</td>\n",
       "      <td>0.871</td>\n",
       "      <td>6.129</td>\n",
       "      <td>96.0</td>\n",
       "      <td>1.7494</td>\n",
       "      <td>5</td>\n",
       "      <td>403</td>\n",
       "      <td>14.7</td>\n",
       "      <td>15.12</td>\n",
       "      <td>17.0</td>\n",
       "    </tr>\n",
       "    <tr>\n",
       "      <th>3</th>\n",
       "      <td>3.53501</td>\n",
       "      <td>0.0</td>\n",
       "      <td>19.58</td>\n",
       "      <td>Yes</td>\n",
       "      <td>0.871</td>\n",
       "      <td>6.152</td>\n",
       "      <td>82.6</td>\n",
       "      <td>1.7455</td>\n",
       "      <td>5</td>\n",
       "      <td>403</td>\n",
       "      <td>14.7</td>\n",
       "      <td>15.02</td>\n",
       "      <td>15.6</td>\n",
       "    </tr>\n",
       "    <tr>\n",
       "      <th>4</th>\n",
       "      <td>1.27346</td>\n",
       "      <td>0.0</td>\n",
       "      <td>19.58</td>\n",
       "      <td>Yes</td>\n",
       "      <td>0.605</td>\n",
       "      <td>6.250</td>\n",
       "      <td>92.6</td>\n",
       "      <td>1.7984</td>\n",
       "      <td>5</td>\n",
       "      <td>403</td>\n",
       "      <td>14.7</td>\n",
       "      <td>5.50</td>\n",
       "      <td>27.0</td>\n",
       "    </tr>\n",
       "  </tbody>\n",
       "</table>\n",
       "</div>"
      ],
      "text/plain": [
       "      CRIM   ZN  INDUS RIVER    NOX     RM    AGE     DIS  RAD  TAX  PRATIO  \\\n",
       "0  3.32105  0.0  19.58   Yes  0.871  5.403  100.0  1.3216    5  403    14.7   \n",
       "1  1.12658  0.0  19.58   Yes  0.871  5.012   88.0  1.6102    5  403    14.7   \n",
       "2  1.41385  0.0  19.58   Yes  0.871  6.129   96.0  1.7494    5  403    14.7   \n",
       "3  3.53501  0.0  19.58   Yes  0.871  6.152   82.6  1.7455    5  403    14.7   \n",
       "4  1.27346  0.0  19.58   Yes  0.605  6.250   92.6  1.7984    5  403    14.7   \n",
       "\n",
       "   LSTAT  MEDV  \n",
       "0  26.82  13.4  \n",
       "1  12.12  15.3  \n",
       "2  15.12  17.0  \n",
       "3  15.02  15.6  \n",
       "4   5.50  27.0  "
      ]
     },
     "execution_count": 3,
     "metadata": {},
     "output_type": "execute_result"
    }
   ],
   "source": [
    "datHousing.head()\n"
   ]
  },
  {
   "cell_type": "code",
   "execution_count": 4,
   "metadata": {
    "scrolled": true
   },
   "outputs": [
    {
     "name": "stdout",
     "output_type": "stream",
     "text": [
      "Unique values in RIVER: ['Yes' 'No']\n",
      "Unique values in NOX: [0.871  0.605  0.489  0.55   0.507  0.464  0.447  0.4429 0.401  0.77\n",
      " 0.718  0.631  0.668  0.538  0.469  0.458  0.524  0.499  0.428  0.448\n",
      " 0.439  0.41   0.403  0.411  0.453  0.4161 0.398  0.409  0.413  0.437\n",
      " 0.426  0.449  0.445  0.52   0.547  0.581  0.624  0.51   0.488  0.422\n",
      " 0.404  0.415  0.504  0.431  0.392  0.394  0.647  0.575  0.4    0.389\n",
      " 0.385  0.405  0.433  0.472  0.544  0.493  0.46   0.4379 0.515  0.442\n",
      " 0.518  0.484  0.429  0.435  0.671  0.7    0.693  0.659  0.597  0.679\n",
      " 0.614  0.584  0.713  0.74   0.655  0.58   0.532  0.583  0.609  0.585\n",
      " 0.573 ]\n",
      "Unique values in RAD: [ 5  4  8  3  1 24  2  6  7]\n",
      "Unique values in TAX: [403 277 276 307 223 254 216 198 666 296 242 222 311 279 252 233 243 469\n",
      " 226 313 256 284 337 345 305 398 281 247 270 384 432 188 437 193 265 255\n",
      " 329 402 348 224 300 330 315 244 264 285 241 293 245 289 358 304 287 430\n",
      " 422 370 352 351 280 335 411 187 334 711 391 273]\n",
      "Unique values in PRATIO: [14.7 18.6 16.4 17.4 17.6 14.9 13.6 20.2 15.3 17.8 18.7 15.2 21.  19.2\n",
      " 18.3 17.9 16.8 21.1 17.3 15.1 19.7 16.1 18.9 19.  18.5 18.2 18.  20.9\n",
      " 19.1 21.2 16.6 15.6 14.4 12.6 17.  15.9 13.  16.  14.8 18.4 19.6 16.9\n",
      " 15.5 18.8 22.  20.1]\n",
      "Unique values in ZN: [  0.   20.   40.   90.   18.   12.5  75.   21.   85.  100.   25.   17.5\n",
      "  80.   28.   45.   60.   95.   82.5  30.   22.   55.   52.5  70.   34.\n",
      "  33.   35. ]\n",
      "Unique values in CRIM: [3.32105e+00 1.12658e+00 1.41385e+00 3.53501e+00 1.27346e+00 1.83377e+00\n",
      " 1.51902e+00 1.35870e-01 4.35710e-01 1.74460e-01 3.75780e-01 2.17190e-01\n",
      " 4.56000e-02 1.10690e-01 1.14250e-01 3.58090e-01 4.07710e-01 6.23560e-01\n",
      " 4.47910e-01 5.20580e-01 9.06500e-02 2.21880e-01 5.64400e-02 1.04690e-01\n",
      " 6.12700e-02 6.12900e-02 1.50100e-02 8.98296e+00 3.84970e+00 5.20177e+00\n",
      " 4.22239e+00 3.47428e+00 5.66998e+00 6.53876e+00 8.26725e+00 6.32000e-03\n",
      " 2.73100e-02 2.72900e-02 3.23700e-02 6.90500e-02 2.98500e-02 8.82900e-02\n",
      " 1.44550e-01 2.11240e-01 1.70040e-01 2.24890e-01 1.17470e-01 9.37800e-02\n",
      " 6.29760e-01 6.37960e-01 6.27390e-01 1.05393e+00 7.84200e-01 8.02710e-01\n",
      " 7.25800e-01 1.25179e+00 8.52040e-01 1.23247e+00 9.88430e-01 7.50260e-01\n",
      " 8.40540e-01 6.71910e-01 9.55770e-01 7.72990e-01 1.00245e+00 1.13081e+00\n",
      " 1.35472e+00 1.38799e+00 1.15172e+00 1.61282e+00 6.41700e-02 9.74400e-02\n",
      " 8.01400e-02 1.75050e-01 2.76300e-02 3.35900e-02 1.27440e-01 1.41500e-01\n",
      " 1.59360e-01 1.22690e-01 1.71420e-01 1.88360e-01 2.29270e-01 2.53870e-01\n",
      " 2.19770e-01 8.87300e-02 4.33700e-02 5.36000e-02 4.98100e-02 1.36000e-02\n",
      " 1.31100e-02 2.05500e-02 1.43200e-02 1.54450e-01 1.03280e-01 1.49320e-01\n",
      " 1.71710e-01 1.10270e-01 1.26500e-01 1.95100e-02 3.58400e-02 4.37900e-02\n",
      " 5.78900e-02 1.35540e-01 1.28160e-01 8.82600e-02 1.58760e-01 9.16400e-02\n",
      " 1.95390e-01 7.89600e-02 9.51200e-02 1.01530e-01 8.70700e-02 5.64600e-02\n",
      " 8.38700e-02 4.11300e-02 4.46200e-02 3.65900e-02 3.55100e-02 5.05900e-02\n",
      " 5.73500e-02 5.18800e-02 7.15100e-02 5.66000e-02 5.30200e-02 4.68400e-02\n",
      " 3.93200e-02 4.20300e-02 2.87500e-02 4.29400e-02 1.22040e-01 1.15040e-01\n",
      " 1.20830e-01 8.18700e-02 6.86000e-02 1.48660e-01 1.14320e-01 2.28760e-01\n",
      " 2.11610e-01 1.39600e-01 1.32620e-01 1.71200e-01 1.31170e-01 1.28020e-01\n",
      " 2.63630e-01 1.07930e-01 1.00840e-01 1.23290e-01 2.22120e-01 1.42310e-01\n",
      " 1.71340e-01 1.31580e-01 1.50980e-01 1.30580e-01 1.44760e-01 6.89900e-02\n",
      " 7.16500e-02 9.29900e-02 1.50380e-01 9.84900e-02 1.69020e-01 3.87350e-01\n",
      " 2.59150e-01 3.25430e-01 8.81250e-01 3.40060e-01 1.19294e+00 5.90050e-01\n",
      " 3.29820e-01 9.76170e-01 5.57780e-01 3.22640e-01 3.52330e-01 2.49800e-01\n",
      " 5.44520e-01 2.90900e-01 1.62864e+00 4.09740e+00 2.77974e+00 2.37934e+00\n",
      " 2.15505e+00 2.36862e+00 2.33099e+00 2.73397e+00 1.65660e+00 1.49632e+00\n",
      " 2.14918e+00 2.44668e+00 1.22358e+00 1.34284e+00 1.42502e+00 1.46336e+00\n",
      " 2.24236e+00 2.92400e+00 2.01019e+00 1.80028e+00 2.30040e+00 2.44953e+00\n",
      " 1.20742e+00 2.31390e+00 1.39140e-01 9.17800e-02 8.44700e-02 6.66400e-02\n",
      " 7.02200e-02 5.42500e-02 6.64200e-02 5.78000e-02 6.58800e-02 6.88800e-02\n",
      " 9.10300e-02 1.00080e-01 8.30800e-02 6.04700e-02 5.60200e-02 7.87500e-02\n",
      " 1.25790e-01 8.37000e-02 9.06800e-02 6.91100e-02 8.66400e-02 2.18700e-02\n",
      " 1.43900e-02 1.38100e-02 4.01100e-02 4.66600e-02 3.76800e-02 3.15000e-02\n",
      " 1.77800e-02 3.44500e-02 2.17700e-02 3.51000e-02 2.00900e-02 1.36420e-01\n",
      " 2.29690e-01 2.51990e-01 1.40520e-01 2.89550e-01 1.98020e-01 7.01300e-02\n",
      " 6.14700e-01 3.15330e-01 5.26930e-01 3.82140e-01 4.12380e-01 2.98190e-01\n",
      " 4.41780e-01 5.37000e-01 4.62960e-01 5.75290e-01 3.31470e-01 3.30450e-01\n",
      " 5.11830e-01 8.24400e-02 9.25200e-02 1.13290e-01 1.06120e-01 1.02900e-01\n",
      " 1.27570e-01 2.06080e-01 1.91330e-01 3.39830e-01 1.96570e-01 1.64390e-01\n",
      " 1.90730e-01 1.40300e-01 2.14090e-01 8.22100e-02 3.68940e-01 4.81900e-02\n",
      " 3.54800e-02 1.53800e-02 6.11540e-01 6.63510e-01 6.56650e-01 5.40110e-01\n",
      " 5.34120e-01 5.20140e-01 8.25260e-01 5.50070e-01 7.61620e-01 7.85700e-01\n",
      " 5.78340e-01 5.40500e-01 2.99160e-01 1.62110e-01 1.14600e-01 9.60400e-02\n",
      " 7.97800e-02 2.10380e-01 3.57800e-02 3.70500e-02 9.06000e-03 1.09600e-02\n",
      " 1.96500e-02 3.87100e-02 4.59000e-02 4.29700e-02 3.50200e-02 7.88600e-02\n",
      " 3.61500e-02 8.26500e-02 8.19900e-02 1.29320e-01 5.37200e-02 1.41030e-01\n",
      " 6.46600e-02 5.56100e-02 4.41700e-02 3.53700e-02 9.26600e-02 1.00000e-01\n",
      " 5.51500e-02 5.47900e-02 7.50300e-02 4.93200e-02 4.92980e-01 3.49400e-01\n",
      " 2.63548e+00 7.90410e-01 2.61690e-01 2.69380e-01 3.69200e-01 2.53560e-01\n",
      " 3.18270e-01 2.45220e-01 4.02020e-01 4.75470e-01 1.67600e-01 1.81590e-01\n",
      " 3.51140e-01 2.83920e-01 3.41090e-01 1.91860e-01 3.03470e-01 2.41030e-01\n",
      " 6.61700e-02 6.72400e-02 4.54400e-02 5.02300e-02 3.46600e-02 5.08300e-02\n",
      " 3.73800e-02 3.96100e-02 3.42700e-02 3.04100e-02 3.30600e-02 5.49700e-02\n",
      " 6.15100e-02 1.30100e-02 2.49800e-02 2.54300e-02 3.04900e-02 3.11300e-02\n",
      " 6.16200e-02 1.87000e-02 2.89900e-02 6.21100e-02 7.95000e-02 7.24400e-02\n",
      " 1.70900e-02 4.30100e-02 1.06590e-01 4.26131e+00 4.54192e+00 3.83684e+00\n",
      " 3.67822e+00 4.55587e+00 3.69695e+00 1.35222e+01 4.89822e+00 9.23230e+00\n",
      " 1.11081e+01 1.84982e+01 1.96091e+01 1.52880e+01 9.82349e+00 2.36482e+01\n",
      " 1.78667e+01 8.89762e+01 1.58744e+01 9.18702e+00 7.99248e+00 2.00849e+01\n",
      " 1.68118e+01 2.43938e+01 2.25971e+01 1.43337e+01 8.15174e+00 6.96215e+00\n",
      " 5.29305e+00 1.15779e+01 8.64476e+00 1.33598e+01 8.71675e+00 5.87205e+00\n",
      " 7.67202e+00 3.83518e+01 9.91655e+00 2.50461e+01 1.42362e+01 9.59571e+00\n",
      " 2.48017e+01 4.15292e+01 6.79208e+01 2.07162e+01 1.19511e+01 7.40389e+00\n",
      " 1.44383e+01 5.11358e+01 1.40507e+01 1.88110e+01 2.86558e+01 4.57461e+01\n",
      " 1.80846e+01 1.08342e+01 2.59406e+01 7.35341e+01 1.18123e+01 1.10874e+01\n",
      " 7.02259e+00 1.20482e+01 7.05042e+00 8.79212e+00 1.58603e+01 1.22472e+01\n",
      " 3.76619e+01 7.36711e+00 9.33889e+00 8.49213e+00 1.00623e+01 6.44405e+00\n",
      " 5.58107e+00 1.39134e+01 1.11604e+01 1.44208e+01 1.51772e+01 1.36781e+01\n",
      " 9.39063e+00 2.20511e+01 9.72418e+00 5.66637e+00 9.96654e+00 1.28023e+01\n",
      " 1.06718e+01 6.28807e+00 9.92485e+00 9.32909e+00 7.52601e+00 6.71772e+00\n",
      " 5.44114e+00 5.09017e+00 8.24809e+00 9.51363e+00 4.75237e+00 4.66883e+00\n",
      " 8.20058e+00 7.75223e+00 6.80117e+00 4.81213e+00 3.69311e+00 6.65492e+00\n",
      " 5.82115e+00 7.83932e+00 3.16360e+00 3.77498e+00 4.42228e+00 1.55757e+01\n",
      " 1.30751e+01 4.34879e+00 4.03841e+00 3.56868e+00 4.64689e+00 8.05579e+00\n",
      " 6.39312e+00 4.87141e+00 1.50234e+01 1.02330e+01 5.82401e+00 5.70818e+00\n",
      " 5.73116e+00 2.81838e+00 2.37857e+00 3.67367e+00 5.69175e+00 4.83567e+00\n",
      " 1.50860e-01 1.83370e-01 2.07460e-01 1.05740e-01 1.11320e-01 1.73310e-01\n",
      " 2.79570e-01 1.78990e-01 2.89600e-01 2.68380e-01 2.39120e-01 1.77830e-01\n",
      " 2.24380e-01 6.26300e-02 4.52700e-02 6.07600e-02 1.09590e-01 4.74100e-02]\n"
     ]
    }
   ],
   "source": [
    "# Correctly get the unique values\n",
    "r = datHousing['RIVER'].unique()\n",
    "n = datHousing['NOX'].unique()\n",
    "ra = datHousing['RAD'].unique()\n",
    "t = datHousing['TAX'].unique()\n",
    "p = datHousing['PRATIO'].unique()\n",
    "z = datHousing['ZN'].unique()\n",
    "c = datHousing['CRIM'].unique()\n",
    "\n",
    "print(f\"Unique values in RIVER: {r}\")\n",
    "print(f\"Unique values in NOX: {n}\")\n",
    "print(f\"Unique values in RAD: {ra}\")\n",
    "print(f\"Unique values in TAX: {t}\")\n",
    "print(f\"Unique values in PRATIO: {p}\")\n",
    "print(f\"Unique values in ZN: {z}\")\n",
    "print(f\"Unique values in CRIM: {c}\")\n"
   ]
  },
  {
   "cell_type": "markdown",
   "metadata": {},
   "source": [
    "### Dummy code the categoric variables"
   ]
  },
  {
   "cell_type": "code",
   "execution_count": 5,
   "metadata": {},
   "outputs": [],
   "source": [
    "datHousing = pd.concat([datHousing, pd.get_dummies(datHousing['RIVER'], prefix='RIVER', drop_first=True)], axis=1)\n",
    "datHousing.drop(['RIVER'], inplace=True, axis=1)\n",
    "\n"
   ]
  },
  {
   "cell_type": "code",
   "execution_count": 6,
   "metadata": {},
   "outputs": [
    {
     "data": {
      "text/html": [
       "<div>\n",
       "<style scoped>\n",
       "    .dataframe tbody tr th:only-of-type {\n",
       "        vertical-align: middle;\n",
       "    }\n",
       "\n",
       "    .dataframe tbody tr th {\n",
       "        vertical-align: top;\n",
       "    }\n",
       "\n",
       "    .dataframe thead th {\n",
       "        text-align: right;\n",
       "    }\n",
       "</style>\n",
       "<table border=\"1\" class=\"dataframe\">\n",
       "  <thead>\n",
       "    <tr style=\"text-align: right;\">\n",
       "      <th></th>\n",
       "      <th>CRIM</th>\n",
       "      <th>ZN</th>\n",
       "      <th>INDUS</th>\n",
       "      <th>NOX</th>\n",
       "      <th>RM</th>\n",
       "      <th>AGE</th>\n",
       "      <th>DIS</th>\n",
       "      <th>RAD</th>\n",
       "      <th>TAX</th>\n",
       "      <th>PRATIO</th>\n",
       "      <th>LSTAT</th>\n",
       "      <th>MEDV</th>\n",
       "      <th>RIVER_Yes</th>\n",
       "    </tr>\n",
       "  </thead>\n",
       "  <tbody>\n",
       "    <tr>\n",
       "      <th>0</th>\n",
       "      <td>3.32105</td>\n",
       "      <td>0.0</td>\n",
       "      <td>19.58</td>\n",
       "      <td>0.871</td>\n",
       "      <td>5.403</td>\n",
       "      <td>100.0</td>\n",
       "      <td>1.3216</td>\n",
       "      <td>5</td>\n",
       "      <td>403</td>\n",
       "      <td>14.7</td>\n",
       "      <td>26.82</td>\n",
       "      <td>13.4</td>\n",
       "      <td>True</td>\n",
       "    </tr>\n",
       "    <tr>\n",
       "      <th>1</th>\n",
       "      <td>1.12658</td>\n",
       "      <td>0.0</td>\n",
       "      <td>19.58</td>\n",
       "      <td>0.871</td>\n",
       "      <td>5.012</td>\n",
       "      <td>88.0</td>\n",
       "      <td>1.6102</td>\n",
       "      <td>5</td>\n",
       "      <td>403</td>\n",
       "      <td>14.7</td>\n",
       "      <td>12.12</td>\n",
       "      <td>15.3</td>\n",
       "      <td>True</td>\n",
       "    </tr>\n",
       "    <tr>\n",
       "      <th>2</th>\n",
       "      <td>1.41385</td>\n",
       "      <td>0.0</td>\n",
       "      <td>19.58</td>\n",
       "      <td>0.871</td>\n",
       "      <td>6.129</td>\n",
       "      <td>96.0</td>\n",
       "      <td>1.7494</td>\n",
       "      <td>5</td>\n",
       "      <td>403</td>\n",
       "      <td>14.7</td>\n",
       "      <td>15.12</td>\n",
       "      <td>17.0</td>\n",
       "      <td>True</td>\n",
       "    </tr>\n",
       "    <tr>\n",
       "      <th>3</th>\n",
       "      <td>3.53501</td>\n",
       "      <td>0.0</td>\n",
       "      <td>19.58</td>\n",
       "      <td>0.871</td>\n",
       "      <td>6.152</td>\n",
       "      <td>82.6</td>\n",
       "      <td>1.7455</td>\n",
       "      <td>5</td>\n",
       "      <td>403</td>\n",
       "      <td>14.7</td>\n",
       "      <td>15.02</td>\n",
       "      <td>15.6</td>\n",
       "      <td>True</td>\n",
       "    </tr>\n",
       "    <tr>\n",
       "      <th>4</th>\n",
       "      <td>1.27346</td>\n",
       "      <td>0.0</td>\n",
       "      <td>19.58</td>\n",
       "      <td>0.605</td>\n",
       "      <td>6.250</td>\n",
       "      <td>92.6</td>\n",
       "      <td>1.7984</td>\n",
       "      <td>5</td>\n",
       "      <td>403</td>\n",
       "      <td>14.7</td>\n",
       "      <td>5.50</td>\n",
       "      <td>27.0</td>\n",
       "      <td>True</td>\n",
       "    </tr>\n",
       "  </tbody>\n",
       "</table>\n",
       "</div>"
      ],
      "text/plain": [
       "      CRIM   ZN  INDUS    NOX     RM    AGE     DIS  RAD  TAX  PRATIO  LSTAT  \\\n",
       "0  3.32105  0.0  19.58  0.871  5.403  100.0  1.3216    5  403    14.7  26.82   \n",
       "1  1.12658  0.0  19.58  0.871  5.012   88.0  1.6102    5  403    14.7  12.12   \n",
       "2  1.41385  0.0  19.58  0.871  6.129   96.0  1.7494    5  403    14.7  15.12   \n",
       "3  3.53501  0.0  19.58  0.871  6.152   82.6  1.7455    5  403    14.7  15.02   \n",
       "4  1.27346  0.0  19.58  0.605  6.250   92.6  1.7984    5  403    14.7   5.50   \n",
       "\n",
       "   MEDV  RIVER_Yes  \n",
       "0  13.4       True  \n",
       "1  15.3       True  \n",
       "2  17.0       True  \n",
       "3  15.6       True  \n",
       "4  27.0       True  "
      ]
     },
     "execution_count": 6,
     "metadata": {},
     "output_type": "execute_result"
    }
   ],
   "source": [
    "datHousing.head()"
   ]
  },
  {
   "cell_type": "markdown",
   "metadata": {},
   "source": [
    "###### 3. For now, we are not going to break the data frame into training and testing partitions. Create a regression model on the entire data frame predicting MEDV using all of the other predictors. This is your baseline model. Report the R2 value and MSE for this model.\n",
    "### Create new dataset without target variable"
   ]
  },
  {
   "cell_type": "code",
   "execution_count": 7,
   "metadata": {},
   "outputs": [],
   "source": [
    "# Create new dataset without the target variable which is in this case 'MEDV'\n",
    "datHousingSub = datHousing.drop(['MEDV'], axis=1)"
   ]
  },
  {
   "cell_type": "code",
   "execution_count": 8,
   "metadata": {},
   "outputs": [
    {
     "data": {
      "text/html": [
       "<div>\n",
       "<style scoped>\n",
       "    .dataframe tbody tr th:only-of-type {\n",
       "        vertical-align: middle;\n",
       "    }\n",
       "\n",
       "    .dataframe tbody tr th {\n",
       "        vertical-align: top;\n",
       "    }\n",
       "\n",
       "    .dataframe thead th {\n",
       "        text-align: right;\n",
       "    }\n",
       "</style>\n",
       "<table border=\"1\" class=\"dataframe\">\n",
       "  <thead>\n",
       "    <tr style=\"text-align: right;\">\n",
       "      <th></th>\n",
       "      <th>CRIM</th>\n",
       "      <th>ZN</th>\n",
       "      <th>INDUS</th>\n",
       "      <th>NOX</th>\n",
       "      <th>RM</th>\n",
       "      <th>AGE</th>\n",
       "      <th>DIS</th>\n",
       "      <th>RAD</th>\n",
       "      <th>TAX</th>\n",
       "      <th>PRATIO</th>\n",
       "      <th>LSTAT</th>\n",
       "      <th>RIVER_Yes</th>\n",
       "    </tr>\n",
       "  </thead>\n",
       "  <tbody>\n",
       "    <tr>\n",
       "      <th>0</th>\n",
       "      <td>3.32105</td>\n",
       "      <td>0.0</td>\n",
       "      <td>19.58</td>\n",
       "      <td>0.871</td>\n",
       "      <td>5.403</td>\n",
       "      <td>100.0</td>\n",
       "      <td>1.3216</td>\n",
       "      <td>5</td>\n",
       "      <td>403</td>\n",
       "      <td>14.7</td>\n",
       "      <td>26.82</td>\n",
       "      <td>True</td>\n",
       "    </tr>\n",
       "    <tr>\n",
       "      <th>1</th>\n",
       "      <td>1.12658</td>\n",
       "      <td>0.0</td>\n",
       "      <td>19.58</td>\n",
       "      <td>0.871</td>\n",
       "      <td>5.012</td>\n",
       "      <td>88.0</td>\n",
       "      <td>1.6102</td>\n",
       "      <td>5</td>\n",
       "      <td>403</td>\n",
       "      <td>14.7</td>\n",
       "      <td>12.12</td>\n",
       "      <td>True</td>\n",
       "    </tr>\n",
       "    <tr>\n",
       "      <th>2</th>\n",
       "      <td>1.41385</td>\n",
       "      <td>0.0</td>\n",
       "      <td>19.58</td>\n",
       "      <td>0.871</td>\n",
       "      <td>6.129</td>\n",
       "      <td>96.0</td>\n",
       "      <td>1.7494</td>\n",
       "      <td>5</td>\n",
       "      <td>403</td>\n",
       "      <td>14.7</td>\n",
       "      <td>15.12</td>\n",
       "      <td>True</td>\n",
       "    </tr>\n",
       "    <tr>\n",
       "      <th>3</th>\n",
       "      <td>3.53501</td>\n",
       "      <td>0.0</td>\n",
       "      <td>19.58</td>\n",
       "      <td>0.871</td>\n",
       "      <td>6.152</td>\n",
       "      <td>82.6</td>\n",
       "      <td>1.7455</td>\n",
       "      <td>5</td>\n",
       "      <td>403</td>\n",
       "      <td>14.7</td>\n",
       "      <td>15.02</td>\n",
       "      <td>True</td>\n",
       "    </tr>\n",
       "    <tr>\n",
       "      <th>4</th>\n",
       "      <td>1.27346</td>\n",
       "      <td>0.0</td>\n",
       "      <td>19.58</td>\n",
       "      <td>0.605</td>\n",
       "      <td>6.250</td>\n",
       "      <td>92.6</td>\n",
       "      <td>1.7984</td>\n",
       "      <td>5</td>\n",
       "      <td>403</td>\n",
       "      <td>14.7</td>\n",
       "      <td>5.50</td>\n",
       "      <td>True</td>\n",
       "    </tr>\n",
       "  </tbody>\n",
       "</table>\n",
       "</div>"
      ],
      "text/plain": [
       "      CRIM   ZN  INDUS    NOX     RM    AGE     DIS  RAD  TAX  PRATIO  LSTAT  \\\n",
       "0  3.32105  0.0  19.58  0.871  5.403  100.0  1.3216    5  403    14.7  26.82   \n",
       "1  1.12658  0.0  19.58  0.871  5.012   88.0  1.6102    5  403    14.7  12.12   \n",
       "2  1.41385  0.0  19.58  0.871  6.129   96.0  1.7494    5  403    14.7  15.12   \n",
       "3  3.53501  0.0  19.58  0.871  6.152   82.6  1.7455    5  403    14.7  15.02   \n",
       "4  1.27346  0.0  19.58  0.605  6.250   92.6  1.7984    5  403    14.7   5.50   \n",
       "\n",
       "   RIVER_Yes  \n",
       "0       True  \n",
       "1       True  \n",
       "2       True  \n",
       "3       True  \n",
       "4       True  "
      ]
     },
     "execution_count": 8,
     "metadata": {},
     "output_type": "execute_result"
    }
   ],
   "source": [
    "datHousingSub.head()"
   ]
  },
  {
   "cell_type": "markdown",
   "metadata": {},
   "source": [
    "### Create new dataset with target variable"
   ]
  },
  {
   "cell_type": "code",
   "execution_count": 9,
   "metadata": {},
   "outputs": [
    {
     "name": "stdout",
     "output_type": "stream",
     "text": [
      "      CRIM   ZN  INDUS    NOX     RM    AGE     DIS  RAD  TAX  PRATIO  LSTAT  \\\n",
      "0  3.32105  0.0  19.58  0.871  5.403  100.0  1.3216    5  403    14.7  26.82   \n",
      "1  1.12658  0.0  19.58  0.871  5.012   88.0  1.6102    5  403    14.7  12.12   \n",
      "2  1.41385  0.0  19.58  0.871  6.129   96.0  1.7494    5  403    14.7  15.12   \n",
      "3  3.53501  0.0  19.58  0.871  6.152   82.6  1.7455    5  403    14.7  15.02   \n",
      "4  1.27346  0.0  19.58  0.605  6.250   92.6  1.7984    5  403    14.7   5.50   \n",
      "5  1.83377  0.0  19.58  0.605  7.802   98.2  2.0407    5  403    14.7   1.92   \n",
      "6  1.51902  0.0  19.58  0.605  8.375   93.9  2.1620    5  403    14.7   3.32   \n",
      "7  0.13587  0.0  10.59  0.489  6.064   59.1  4.2392    4  277    18.6  14.66   \n",
      "8  0.43571  0.0  10.59  0.489  5.344  100.0  3.8750    4  277    18.6  23.09   \n",
      "9  0.17446  0.0  10.59  0.489  5.960   92.1  3.8771    4  277    18.6  17.27   \n",
      "\n",
      "   RIVER_Yes  \n",
      "0       True  \n",
      "1       True  \n",
      "2       True  \n",
      "3       True  \n",
      "4       True  \n",
      "5       True  \n",
      "6       True  \n",
      "7       True  \n",
      "8       True  \n",
      "9       True  \n",
      "   MEDV\n",
      "0  13.4\n",
      "1  15.3\n",
      "2  17.0\n",
      "3  15.6\n",
      "4  27.0\n",
      "5  50.0\n",
      "6  50.0\n",
      "7  24.4\n",
      "8  20.0\n",
      "9  21.7\n",
      "506\n",
      "506\n"
     ]
    }
   ],
   "source": [
    "target_name = list(['MEDV'])\n",
    "housing_target = datHousing[target_name]\n",
    "\n",
    "print(datHousingSub.head(10))\n",
    "print(housing_target.head(10))\n",
    "print (len(datHousingSub))\n",
    "print (len(housing_target))"
   ]
  },
  {
   "cell_type": "code",
   "execution_count": 10,
   "metadata": {},
   "outputs": [
    {
     "name": "stdout",
     "output_type": "stream",
     "text": [
      "(354, 12)\n",
      "(152, 12)\n",
      "(354, 1)\n",
      "(152, 1)\n"
     ]
    }
   ],
   "source": [
    "from sklearn.model_selection import train_test_split\n",
    "\n",
    "X_train, X_test, y_train, y_test = train_test_split(datHousingSub, housing_target, test_size=0.30, random_state=25)\n",
    "print(X_train.shape)\n",
    "print(X_test.shape)\n",
    "\n",
    "print(y_train.shape)\n",
    "print(y_test.shape)"
   ]
  },
  {
   "cell_type": "code",
   "execution_count": 11,
   "metadata": {},
   "outputs": [
    {
     "name": "stdout",
     "output_type": "stream",
     "text": [
      "r_sqr value: 0.7231057672823237\n"
     ]
    }
   ],
   "source": [
    "# import the linearRegression class\n",
    "from sklearn.linear_model import LinearRegression\n",
    "\n",
    "regressor = LinearRegression(fit_intercept = True) # instantiate the Linear Regression model\n",
    "regressor.fit(X_train, y_train) # train the model\n",
    "\n",
    "print(f'r_sqr value: {regressor.score(X_train, y_train)}')\n"
   ]
  },
  {
   "cell_type": "code",
   "execution_count": 12,
   "metadata": {},
   "outputs": [],
   "source": [
    "y_train_pred = regressor.predict(X_train)\n",
    "y_test_pred = regressor.predict(X_test)"
   ]
  },
  {
   "cell_type": "code",
   "execution_count": 13,
   "metadata": {},
   "outputs": [
    {
     "name": "stdout",
     "output_type": "stream",
     "text": [
      "Baseline Regression Model Results:\n",
      "RMSE train: 4.730, test: 4.843\n",
      "R^2 train: 0.723, test: 0.746\n"
     ]
    }
   ],
   "source": [
    "#Report the R2 value and MSE for this model.\n",
    "from sklearn.metrics import r2_score\n",
    "from sklearn.metrics import mean_squared_error\n",
    "from math import sqrt\n",
    "\n",
    "print(\"Baseline Regression Model Results:\")\n",
    "print('RMSE train: %.3f, test: %.3f' % (\n",
    "        sqrt(mean_squared_error(y_train, y_train_pred)),\n",
    "        sqrt(mean_squared_error(y_test, y_test_pred))))\n",
    "print('R^2 train: %.3f, test: %.3f' % (\n",
    "        r2_score(y_train, y_train_pred),\n",
    "        r2_score(y_test, y_test_pred)))"
   ]
  },
  {
   "cell_type": "code",
   "execution_count": null,
   "metadata": {},
   "outputs": [],
   "source": []
  },
  {
   "cell_type": "markdown",
   "metadata": {},
   "source": [
    "### Fit 2 cluster model"
   ]
  },
  {
   "cell_type": "markdown",
   "metadata": {},
   "source": [
    "###### 4.Create a data frame called datHousingSub (ALREADY DONE) for clustering by generating a subset with all columns except MEDV. We want to exclude MEDV from the clustering since this is the value that we will try to predict later from the clusters. Do a summary on the subset to verify."
   ]
  },
  {
   "cell_type": "code",
   "execution_count": 14,
   "metadata": {},
   "outputs": [],
   "source": [
    "# Using scikit-learn to perform K-Means clustering\n",
    "    \n",
    "# Specify the number of clusters (2) and fit the data dat_rider_feats\n",
    "kmeans = KMeans(n_clusters=2, random_state=42).fit(datHousingSub)\n"
   ]
  },
  {
   "cell_type": "code",
   "execution_count": 15,
   "metadata": {
    "scrolled": true
   },
   "outputs": [
    {
     "name": "stdout",
     "output_type": "stream",
     "text": [
      "Index(['CRIM', 'ZN', 'INDUS', 'NOX', 'RM', 'AGE', 'DIS', 'RAD', 'TAX',\n",
      "       'PRATIO', 'LSTAT', 'RIVER_Yes'],\n",
      "      dtype='object')\n",
      "[[  0.38877444  15.58265583   8.42089431   0.51184743   6.38800542\n",
      "   60.63224932   4.44127154   4.45528455 311.92682927  17.80921409\n",
      "   10.41745257   0.07317073]\n",
      " [ 12.29916168   0.          18.45182482   0.67010219   6.00621168\n",
      "   89.96788321   2.05447007  23.27007299 667.64233577  20.19635036\n",
      "   18.67452555   0.05839416]]\n"
     ]
    }
   ],
   "source": [
    "# Set global NumPy print options for formatting\n",
    "np.set_printoptions(suppress=True) \n",
    "\n",
    "print(datHousingSub.columns)\n",
    "centroids = (kmeans.cluster_centers_)\n",
    "print(centroids)"
   ]
  },
  {
   "cell_type": "markdown",
   "metadata": {},
   "source": [
    "###### 5. Using the KMeans algorithm, create a model with 2 clusters on the datHousingSub data frame. Report the centroid values for each cluster and the sizes of each cluster. Using the characteristics that are especially divergent between the two clusters, what would you name these clusters?\n",
    "###### To me this looks like 0 is group low crime, and higher Zonning number (less pop per acre), with Lower Industrial activity, and lower age, I would assess this to represent a Suburban center which tend to be newer areas, with lower crime rates than urban cities. We can see the opposite of this is true for group 1, as it is Older and have higher crime rate, 0 for zoning and industrial activity is rather high in comparison.\n",
    "\n",
    "###### 0 = Suburban and 1 = Urban\n"
   ]
  },
  {
   "cell_type": "code",
   "execution_count": 16,
   "metadata": {},
   "outputs": [
    {
     "name": "stdout",
     "output_type": "stream",
     "text": [
      "[0 0 0 0 0 0 0 0 0 0 0 0 0 0 0 0 0 0 0 0 0 0 0 0 0 0 0 1 1 1 1 1 1 1 1 0 0\n",
      " 0 0 0 0 0 0 0 0 0 0 0 0 0 0 0 0 0 0 0 0 0 0 0 0 0 0 0 0 0 0 0 0 0 0 0 0 0\n",
      " 0 0 0 0 0 0 0 0 0 0 0 0 0 0 0 0 0 0 0 0 0 0 0 0 0 0 0 0 0 0 0 0 0 0 0 0 0\n",
      " 0 0 0 0 0 0 0 0 0 0 0 0 0 0 0 0 0 0 0 0 0 0 0 0 0 0 0 0 0 0 0 0 0 0 0 0 0\n",
      " 0 0 0 0 0 0 0 0 0 0 0 0 0 0 0 0 0 0 0 0 0 0 0 0 0 0 0 0 0 0 0 0 0 0 0 0 0\n",
      " 0 0 0 0 0 0 0 0 0 0 0 0 0 0 0 0 0 0 0 0 0 0 0 0 0 0 0 0 0 0 0 0 0 0 0 0 0\n",
      " 0 0 0 0 0 0 0 0 0 0 0 0 0 0 0 0 0 0 0 0 0 0 0 0 0 0 0 0 0 0 0 0 0 0 0 0 0\n",
      " 0 0 0 0 0 0 0 0 0 0 0 0 0 0 0 0 0 0 0 0 0 0 0 0 0 0 0 0 0 0 0 0 0 0 0 0 0\n",
      " 0 0 0 0 0 0 0 0 0 0 0 0 0 0 0 0 0 0 0 0 0 0 0 0 0 0 0 0 0 0 0 0 0 0 0 0 0\n",
      " 0 0 0 0 0 0 0 0 0 0 0 0 0 0 0 0 0 0 0 0 0 0 0 0 0 0 0 0 0 0 0 1 1 1 1 1 1\n",
      " 1 1 1 1 1 1 1 1 1 1 1 1 1 1 1 1 1 1 1 1 1 1 1 1 1 1 1 1 1 1 1 1 1 1 1 1 1\n",
      " 1 1 1 1 1 1 1 1 1 1 1 1 1 1 1 1 1 1 1 1 1 1 1 1 1 1 1 1 1 1 1 1 1 1 1 1 1\n",
      " 1 1 1 1 1 1 1 1 1 1 1 1 1 1 1 1 1 1 1 1 1 1 1 1 1 1 1 1 1 1 1 1 1 1 1 1 1\n",
      " 1 1 1 1 1 1 1 1 1 1 1 1 0 0 0 0 0 0 0 0 0 0 0 0 0]\n"
     ]
    }
   ],
   "source": [
    "labels = (kmeans.labels_)\n",
    "print(labels)"
   ]
  },
  {
   "cell_type": "code",
   "execution_count": 17,
   "metadata": {},
   "outputs": [
    {
     "name": "stdout",
     "output_type": "stream",
     "text": [
      "0.7717962604192585\n"
     ]
    }
   ],
   "source": [
    "# Calculate silhouette_score\n",
    "from sklearn.metrics import silhouette_score\n",
    "\n",
    "print(silhouette_score(datHousingSub, kmeans.labels_))"
   ]
  },
  {
   "cell_type": "markdown",
   "metadata": {},
   "source": [
    "###### 6. Repeat step 5 with 3 clusters. Do you think that adding another cluster helps to partition the data? Why or why not?"
   ]
  },
  {
   "cell_type": "code",
   "execution_count": 18,
   "metadata": {},
   "outputs": [],
   "source": [
    "# Using scikit-learn to perform K-Means clustering\n",
    "    \n",
    "# Specify the number of clusters (2) and fit the data dat_rider_feats\n",
    "k_means = KMeans(n_clusters=3, random_state=42).fit(datHousingSub)\n"
   ]
  },
  {
   "cell_type": "code",
   "execution_count": 19,
   "metadata": {},
   "outputs": [
    {
     "name": "stdout",
     "output_type": "stream",
     "text": [
      "Index(['CRIM', 'ZN', 'INDUS', 'NOX', 'RM', 'AGE', 'DIS', 'RAD', 'TAX',\n",
      "       'PRATIO', 'LSTAT', 'RIVER_Yes'],\n",
      "      dtype='object')\n",
      "[[  0.78076168   9.65346535  13.07059406   0.58733663   6.18251485\n",
      "   73.70594059   3.29420891   4.83168317 405.8019802   17.63960396\n",
      "   12.7509901    0.06930693]\n",
      " [ 12.29916168   0.          18.45182482   0.67010219   6.00621168\n",
      "   89.96788321   2.05447007  23.27007299 667.64233577  20.19635036\n",
      "   18.67452555   0.05839416]\n",
      " [  0.24104791  17.81716418   6.66858209   0.48339813   6.46544776\n",
      "   55.70522388   4.87356007   4.31343284 276.54850746  17.87313433\n",
      "    9.53802239   0.07462687]]\n"
     ]
    }
   ],
   "source": [
    "print(datHousingSub.columns)\n",
    "k_centroids = (k_means.cluster_centers_)\n",
    "print(k_centroids)"
   ]
  },
  {
   "cell_type": "code",
   "execution_count": 22,
   "metadata": {},
   "outputs": [
    {
     "name": "stdout",
     "output_type": "stream",
     "text": [
      "[2 2 2 2 2 2 2 1 1 1 1 1 1 1 1 1 1 1 1 1 1 1 1 1 1 1 1 0 0 0 0 0 0 0 0 1 1\n",
      " 1 1 1 1 1 1 1 1 1 1 1 1 1 1 1 1 1 1 1 1 1 1 1 1 1 1 1 1 1 1 1 1 1 1 1 1 1\n",
      " 1 1 1 1 1 1 1 1 1 1 1 1 1 1 1 2 1 1 1 1 1 1 1 1 1 1 1 1 2 2 2 1 1 1 1 2 2\n",
      " 2 2 2 2 1 1 1 1 1 1 1 1 1 1 1 1 1 1 1 1 1 1 1 1 2 2 2 2 2 2 2 2 2 2 2 2 2\n",
      " 2 2 2 2 2 2 2 1 1 1 1 1 1 1 2 2 2 2 2 2 2 2 2 2 2 2 2 2 2 2 2 2 2 2 2 2 2\n",
      " 2 2 2 2 2 2 2 2 2 2 2 2 2 2 2 1 1 1 1 1 1 1 1 1 1 1 1 1 1 1 2 2 2 2 2 2 1\n",
      " 1 1 1 1 1 2 2 2 1 1 1 1 1 1 1 1 1 1 1 1 1 1 1 1 1 1 1 1 1 1 1 1 1 1 1 1 1\n",
      " 1 1 1 1 1 1 1 1 1 1 1 1 1 1 1 1 1 1 1 1 1 1 1 1 1 1 1 1 1 1 1 1 1 1 1 1 1\n",
      " 1 1 1 1 1 1 1 1 1 1 2 2 2 1 1 1 1 1 1 1 1 1 1 1 1 1 1 1 1 1 1 1 1 1 1 1 1\n",
      " 1 1 1 2 2 2 1 1 1 1 1 1 1 1 1 1 1 2 2 2 2 2 2 1 1 1 2 2 1 1 1 0 0 0 0 0 0\n",
      " 0 0 0 0 0 0 0 0 0 0 0 0 0 0 0 0 0 0 0 0 0 0 0 0 0 0 0 0 0 0 0 0 0 0 0 0 0\n",
      " 0 0 0 0 0 0 0 0 0 0 0 0 0 0 0 0 0 0 0 0 0 0 0 0 0 0 0 0 0 0 0 0 0 0 0 0 0\n",
      " 0 0 0 0 0 0 0 0 0 0 0 0 0 0 0 0 0 0 0 0 0 0 0 0 0 0 0 0 0 0 0 0 0 0 0 0 0\n",
      " 0 0 0 0 0 0 0 0 0 0 0 0 2 2 2 2 2 2 2 2 1 1 1 1 1]\n"
     ]
    }
   ],
   "source": [
    "k_labels = (k_means.labels_)\n",
    "print(k_labels)"
   ]
  },
  {
   "cell_type": "code",
   "execution_count": 23,
   "metadata": {},
   "outputs": [
    {
     "name": "stdout",
     "output_type": "stream",
     "text": [
      "0.6217529916045139\n"
     ]
    }
   ],
   "source": [
    "# Calculate silhouette_score\n",
    "from sklearn.metrics import silhouette_score\n",
    "\n",
    "print(silhouette_score(datHousingSub, k_means.labels_))"
   ]
  },
  {
   "cell_type": "markdown",
   "metadata": {},
   "source": [
    "###### Do you think that adding another cluster helps to partition the data? Why or why not?\n",
    "No not really, althought I would call the 3 groups in order 0 = Urban, 1 = Rural, and 2 = Suburban based on the variables mentioned before, where the groups seem to be split by zoning and industrial activities, which give indication in pop per acre and how many business are close by, this is also supported by the DIS variable for distance to work. However, based on the silhouette_score I would say the 2 cluster test is suffecient, this is purely based on the fact between what I classified as rurl and urban would be very small, and mostly likely closer to urban and outter urban area as the variable seem to be slightly close and would give better explanation power if they were combined or in a cluster of 2. The lower silhouette score indicates that the clusters are closer to overlapping than the previous score.\n"
   ]
  },
  {
   "cell_type": "code",
   "execution_count": 25,
   "metadata": {},
   "outputs": [
    {
     "data": {
      "text/html": [
       "<style>#sk-container-id-1 {color: black;}#sk-container-id-1 pre{padding: 0;}#sk-container-id-1 div.sk-toggleable {background-color: white;}#sk-container-id-1 label.sk-toggleable__label {cursor: pointer;display: block;width: 100%;margin-bottom: 0;padding: 0.3em;box-sizing: border-box;text-align: center;}#sk-container-id-1 label.sk-toggleable__label-arrow:before {content: \"▸\";float: left;margin-right: 0.25em;color: #696969;}#sk-container-id-1 label.sk-toggleable__label-arrow:hover:before {color: black;}#sk-container-id-1 div.sk-estimator:hover label.sk-toggleable__label-arrow:before {color: black;}#sk-container-id-1 div.sk-toggleable__content {max-height: 0;max-width: 0;overflow: hidden;text-align: left;background-color: #f0f8ff;}#sk-container-id-1 div.sk-toggleable__content pre {margin: 0.2em;color: black;border-radius: 0.25em;background-color: #f0f8ff;}#sk-container-id-1 input.sk-toggleable__control:checked~div.sk-toggleable__content {max-height: 200px;max-width: 100%;overflow: auto;}#sk-container-id-1 input.sk-toggleable__control:checked~label.sk-toggleable__label-arrow:before {content: \"▾\";}#sk-container-id-1 div.sk-estimator input.sk-toggleable__control:checked~label.sk-toggleable__label {background-color: #d4ebff;}#sk-container-id-1 div.sk-label input.sk-toggleable__control:checked~label.sk-toggleable__label {background-color: #d4ebff;}#sk-container-id-1 input.sk-hidden--visually {border: 0;clip: rect(1px 1px 1px 1px);clip: rect(1px, 1px, 1px, 1px);height: 1px;margin: -1px;overflow: hidden;padding: 0;position: absolute;width: 1px;}#sk-container-id-1 div.sk-estimator {font-family: monospace;background-color: #f0f8ff;border: 1px dotted black;border-radius: 0.25em;box-sizing: border-box;margin-bottom: 0.5em;}#sk-container-id-1 div.sk-estimator:hover {background-color: #d4ebff;}#sk-container-id-1 div.sk-parallel-item::after {content: \"\";width: 100%;border-bottom: 1px solid gray;flex-grow: 1;}#sk-container-id-1 div.sk-label:hover label.sk-toggleable__label {background-color: #d4ebff;}#sk-container-id-1 div.sk-serial::before {content: \"\";position: absolute;border-left: 1px solid gray;box-sizing: border-box;top: 0;bottom: 0;left: 50%;z-index: 0;}#sk-container-id-1 div.sk-serial {display: flex;flex-direction: column;align-items: center;background-color: white;padding-right: 0.2em;padding-left: 0.2em;position: relative;}#sk-container-id-1 div.sk-item {position: relative;z-index: 1;}#sk-container-id-1 div.sk-parallel {display: flex;align-items: stretch;justify-content: center;background-color: white;position: relative;}#sk-container-id-1 div.sk-item::before, #sk-container-id-1 div.sk-parallel-item::before {content: \"\";position: absolute;border-left: 1px solid gray;box-sizing: border-box;top: 0;bottom: 0;left: 50%;z-index: -1;}#sk-container-id-1 div.sk-parallel-item {display: flex;flex-direction: column;z-index: 1;position: relative;background-color: white;}#sk-container-id-1 div.sk-parallel-item:first-child::after {align-self: flex-end;width: 50%;}#sk-container-id-1 div.sk-parallel-item:last-child::after {align-self: flex-start;width: 50%;}#sk-container-id-1 div.sk-parallel-item:only-child::after {width: 0;}#sk-container-id-1 div.sk-dashed-wrapped {border: 1px dashed gray;margin: 0 0.4em 0.5em 0.4em;box-sizing: border-box;padding-bottom: 0.4em;background-color: white;}#sk-container-id-1 div.sk-label label {font-family: monospace;font-weight: bold;display: inline-block;line-height: 1.2em;}#sk-container-id-1 div.sk-label-container {text-align: center;}#sk-container-id-1 div.sk-container {/* jupyter's `normalize.less` sets `[hidden] { display: none; }` but bootstrap.min.css set `[hidden] { display: none !important; }` so we also need the `!important` here to be able to override the default hidden behavior on the sphinx rendered scikit-learn.org. See: https://github.com/scikit-learn/scikit-learn/issues/21755 */display: inline-block !important;position: relative;}#sk-container-id-1 div.sk-text-repr-fallback {display: none;}</style><div id=\"sk-container-id-1\" class=\"sk-top-container\"><div class=\"sk-text-repr-fallback\"><pre>KMeans(n_clusters=2, random_state=42)</pre><b>In a Jupyter environment, please rerun this cell to show the HTML representation or trust the notebook. <br />On GitHub, the HTML representation is unable to render, please try loading this page with nbviewer.org.</b></div><div class=\"sk-container\" hidden><div class=\"sk-item\"><div class=\"sk-estimator sk-toggleable\"><input class=\"sk-toggleable__control sk-hidden--visually\" id=\"sk-estimator-id-1\" type=\"checkbox\" checked><label for=\"sk-estimator-id-1\" class=\"sk-toggleable__label sk-toggleable__label-arrow\">KMeans</label><div class=\"sk-toggleable__content\"><pre>KMeans(n_clusters=2, random_state=42)</pre></div></div></div></div></div>"
      ],
      "text/plain": [
       "KMeans(n_clusters=2, random_state=42)"
      ]
     },
     "execution_count": 25,
     "metadata": {},
     "output_type": "execute_result"
    }
   ],
   "source": [
    "kmeans"
   ]
  },
  {
   "cell_type": "code",
   "execution_count": 26,
   "metadata": {
    "scrolled": true
   },
   "outputs": [
    {
     "data": {
      "text/plain": [
       "array([[  0.38877444,  15.58265583,   8.42089431,   0.51184743,\n",
       "          6.38800542,  60.63224932,   4.44127154,   4.45528455,\n",
       "        311.92682927,  17.80921409,  10.41745257,   0.07317073],\n",
       "       [ 12.29916168,   0.        ,  18.45182482,   0.67010219,\n",
       "          6.00621168,  89.96788321,   2.05447007,  23.27007299,\n",
       "        667.64233577,  20.19635036,  18.67452555,   0.05839416]])"
      ]
     },
     "execution_count": 26,
     "metadata": {},
     "output_type": "execute_result"
    }
   ],
   "source": [
    "centroids"
   ]
  },
  {
   "cell_type": "markdown",
   "metadata": {},
   "source": [
    "###### 7. We will use the 2-cluster model going forward. Merge the cluster ids from this 2-cluster model into the datHousing data frame using the column name Cluster to store this cluster id. Look at the first few rows of data to verify."
   ]
  },
  {
   "cell_type": "code",
   "execution_count": 36,
   "metadata": {},
   "outputs": [
    {
     "name": "stdout",
     "output_type": "stream",
     "text": [
      "      CRIM   ZN  INDUS    NOX     RM    AGE     DIS  RAD  TAX  PRATIO  LSTAT  \\\n",
      "0  3.32105  0.0  19.58  0.871  5.403  100.0  1.3216    5  403    14.7  26.82   \n",
      "1  1.12658  0.0  19.58  0.871  5.012   88.0  1.6102    5  403    14.7  12.12   \n",
      "2  1.41385  0.0  19.58  0.871  6.129   96.0  1.7494    5  403    14.7  15.12   \n",
      "3  3.53501  0.0  19.58  0.871  6.152   82.6  1.7455    5  403    14.7  15.02   \n",
      "4  1.27346  0.0  19.58  0.605  6.250   92.6  1.7984    5  403    14.7   5.50   \n",
      "\n",
      "   MEDV  RIVER_Yes  Cluster  \n",
      "0  13.4          1        0  \n",
      "1  15.3          1        0  \n",
      "2  17.0          1        0  \n",
      "3  15.6          1        0  \n",
      "4  27.0          1        0  \n",
      "[0 1]\n"
     ]
    }
   ],
   "source": [
    "# Merge the existing 'labels' variable directly into the DataFrame\n",
    "datHousing['Cluster'] = labels\n",
    "\n",
    "# Verify the first few rows\n",
    "print(datHousing.head())\n",
    "print(datHousing['Cluster'].unique())"
   ]
  },
  {
   "cell_type": "markdown",
   "metadata": {},
   "source": [
    "###### 8. Create a new data frame called datHousingC1 which contains all of the rows from datHousing in cluster 1. Look at the first few rows of data to verify. Check the Cluster column to make sure that it only stores the value of 1"
   ]
  },
  {
   "cell_type": "code",
   "execution_count": 51,
   "metadata": {},
   "outputs": [
    {
     "name": "stdout",
     "output_type": "stream",
     "text": [
      "      CRIM   ZN  INDUS    NOX     RM    AGE     DIS  RAD  TAX  PRATIO  LSTAT  \\\n",
      "0  3.32105  0.0  19.58  0.871  5.403  100.0  1.3216    5  403    14.7  26.82   \n",
      "1  1.12658  0.0  19.58  0.871  5.012   88.0  1.6102    5  403    14.7  12.12   \n",
      "2  1.41385  0.0  19.58  0.871  6.129   96.0  1.7494    5  403    14.7  15.12   \n",
      "3  3.53501  0.0  19.58  0.871  6.152   82.6  1.7455    5  403    14.7  15.02   \n",
      "4  1.27346  0.0  19.58  0.605  6.250   92.6  1.7984    5  403    14.7   5.50   \n",
      "\n",
      "   MEDV  RIVER_Yes  Cluster  \n",
      "0  13.4          1        0  \n",
      "1  15.3          1        0  \n",
      "2  17.0          1        0  \n",
      "3  15.6          1        0  \n",
      "4  27.0          1        0  \n",
      "[0]\n",
      "369\n"
     ]
    }
   ],
   "source": [
    "datHousingC1 = datHousing.loc[datHousing['Cluster'] == 0]\n",
    "# Verify the first few rows\n",
    "print(datHousingC1.head())\n",
    "print(datHousingC1['Cluster'].unique())\n",
    "print (len(datHousingC1))"
   ]
  },
  {
   "cell_type": "markdown",
   "metadata": {},
   "source": [
    "###### 9. Create a new data frame called datHousingC2 which contains all of the rows from datHousing in cluster 2. Use summary to verify the results. Check the Cluster column to make sure that it only stores the value of 2"
   ]
  },
  {
   "cell_type": "code",
   "execution_count": 50,
   "metadata": {},
   "outputs": [
    {
     "name": "stdout",
     "output_type": "stream",
     "text": [
      "       CRIM   ZN  INDUS    NOX     RM   AGE     DIS  RAD  TAX  PRATIO  LSTAT  \\\n",
      "27  8.98296  0.0   18.1  0.770  6.212  97.4  2.1222   24  666    20.2  17.60   \n",
      "28  3.84970  0.0   18.1  0.770  6.395  91.0  2.5052   24  666    20.2  13.27   \n",
      "29  5.20177  0.0   18.1  0.770  6.127  83.4  2.7227   24  666    20.2  11.48   \n",
      "30  4.22239  0.0   18.1  0.770  5.803  89.0  1.9047   24  666    20.2  14.64   \n",
      "31  3.47428  0.0   18.1  0.718  8.780  82.9  1.9047   24  666    20.2   5.29   \n",
      "\n",
      "    MEDV  RIVER_Yes  Cluster  \n",
      "27  17.8          1        1  \n",
      "28  21.7          1        1  \n",
      "29  22.7          1        1  \n",
      "30  16.8          1        1  \n",
      "31  21.9          1        1  \n",
      "[1]\n",
      "137\n"
     ]
    }
   ],
   "source": [
    "datHousingC2 = datHousing.loc[datHousing['Cluster'] == 1]\n",
    "# Verify the first few rows\n",
    "print(datHousingC2.head())\n",
    "print(datHousingC2['Cluster'].unique())\n",
    "print (len(datHousingC2))"
   ]
  },
  {
   "cell_type": "markdown",
   "metadata": {},
   "source": [
    "###### 10. Create a regression model predicting MEDV and the same predictors as the baseline model in step 3, using the data frame from cluster 1. What are the R2 value and MSE? Is this higher or lower than the baseline model?"
   ]
  },
  {
   "cell_type": "code",
   "execution_count": 52,
   "metadata": {},
   "outputs": [
    {
     "name": "stdout",
     "output_type": "stream",
     "text": [
      "      CRIM   ZN  INDUS    NOX     RM    AGE     DIS  RAD  TAX  PRATIO  LSTAT  \\\n",
      "0  3.32105  0.0  19.58  0.871  5.403  100.0  1.3216    5  403    14.7  26.82   \n",
      "1  1.12658  0.0  19.58  0.871  5.012   88.0  1.6102    5  403    14.7  12.12   \n",
      "2  1.41385  0.0  19.58  0.871  6.129   96.0  1.7494    5  403    14.7  15.12   \n",
      "3  3.53501  0.0  19.58  0.871  6.152   82.6  1.7455    5  403    14.7  15.02   \n",
      "4  1.27346  0.0  19.58  0.605  6.250   92.6  1.7984    5  403    14.7   5.50   \n",
      "5  1.83377  0.0  19.58  0.605  7.802   98.2  2.0407    5  403    14.7   1.92   \n",
      "6  1.51902  0.0  19.58  0.605  8.375   93.9  2.1620    5  403    14.7   3.32   \n",
      "7  0.13587  0.0  10.59  0.489  6.064   59.1  4.2392    4  277    18.6  14.66   \n",
      "8  0.43571  0.0  10.59  0.489  5.344  100.0  3.8750    4  277    18.6  23.09   \n",
      "9  0.17446  0.0  10.59  0.489  5.960   92.1  3.8771    4  277    18.6  17.27   \n",
      "\n",
      "   RIVER_Yes  \n",
      "0          1  \n",
      "1          1  \n",
      "2          1  \n",
      "3          1  \n",
      "4          1  \n",
      "5          1  \n",
      "6          1  \n",
      "7          1  \n",
      "8          1  \n",
      "9          1  \n",
      "   MEDV\n",
      "0  13.4\n",
      "1  15.3\n",
      "2  17.0\n",
      "3  15.6\n",
      "4  27.0\n",
      "5  50.0\n",
      "6  50.0\n",
      "7  24.4\n",
      "8  20.0\n",
      "9  21.7\n",
      "369\n",
      "369\n"
     ]
    }
   ],
   "source": [
    "target_name = list(['MEDV'])\n",
    "housing_target1 = datHousingC1[target_name]\n",
    "datHousingSub1 = datHousingC1.drop(['MEDV', 'Cluster'], axis=1)\n",
    "\n",
    "print(datHousingSub1.head(10))\n",
    "print(housing_target1.head(10))\n",
    "print (len(datHousingSub1))\n",
    "print (len(housing_target1))"
   ]
  },
  {
   "cell_type": "code",
   "execution_count": 58,
   "metadata": {},
   "outputs": [
    {
     "name": "stdout",
     "output_type": "stream",
     "text": [
      "shape of training data independent vars (x)\n",
      "(258, 12)\n",
      "shape of test data independent vars (x)\n",
      "(111, 12)\n",
      "shape of train data dependent vars (y)\n",
      "(258, 1)\n",
      "shape of test data dependent vars (y)\n",
      "(111, 1)\n",
      "r_sqr value: 0.8477216916255111\n",
      "Cluster1 Regression Model Results:\n",
      "RMSE train: 3.128, test: 3.121\n",
      "R^2 train: 0.848, test: 0.877\n"
     ]
    }
   ],
   "source": [
    "X_train, X_test, y_train, y_test = train_test_split(datHousingSub1, housing_target1, test_size=0.30, random_state=25)\n",
    "print('shape of training data independent vars (x)')\n",
    "print(X_train.shape)\n",
    "print('shape of test data independent vars (x)')\n",
    "print(X_test.shape)\n",
    "print('shape of train data dependent vars (y)')\n",
    "print(y_train.shape)\n",
    "print('shape of test data dependent vars (y)')\n",
    "print(y_test.shape)\n",
    "regressor = LinearRegression(fit_intercept = True) # instantiate the Linear Regression model\n",
    "regressor.fit(X_train, y_train) # train the model\n",
    "print(f'r_sqr value: {regressor.score(X_train, y_train)}')\n",
    "y_train_pred = regressor.predict(X_train)\n",
    "y_test_pred = regressor.predict(X_test)\n",
    "print(\"Cluster1 Regression Model Results:\")\n",
    "print('RMSE train: %.3f, test: %.3f' % (\n",
    "        sqrt(mean_squared_error(y_train, y_train_pred)),\n",
    "        sqrt(mean_squared_error(y_test, y_test_pred))))\n",
    "print('R^2 train: %.3f, test: %.3f' % (\n",
    "        r2_score(y_train, y_train_pred),\n",
    "        r2_score(y_test, y_test_pred)))"
   ]
  },
  {
   "cell_type": "markdown",
   "metadata": {},
   "source": [
    "###### Baseline Regression Model Results:\n",
    "###### RMSE train: 4.730, test: 4.843\n",
    "###### R^2 train: 0.723, test: 0.746\n",
    "What are the R2 value and MSE? Is this higher or lower than the baseline model? These are higher than base line model as we can see this model performs better at accurately predicting the data relevant to cluster 1 which in this case, would be the data we had a larger amount of our \"suburban area = 0\" (maybe explaining the higher predictive power)"
   ]
  },
  {
   "cell_type": "code",
   "execution_count": null,
   "metadata": {},
   "outputs": [],
   "source": [
    " "
   ]
  },
  {
   "cell_type": "markdown",
   "metadata": {},
   "source": [
    "###### 11.Create a regression model predicting MEDV and the same predictors as the baseline model in step 3, using the data frame from cluster 2. What are the R2 value and MSE? Is this higher or lower than the baseline model?"
   ]
  },
  {
   "cell_type": "code",
   "execution_count": 60,
   "metadata": {},
   "outputs": [
    {
     "name": "stdout",
     "output_type": "stream",
     "text": [
      "        CRIM   ZN  INDUS    NOX     RM   AGE     DIS  RAD  TAX  PRATIO  LSTAT  \\\n",
      "27   8.98296  0.0   18.1  0.770  6.212  97.4  2.1222   24  666    20.2  17.60   \n",
      "28   3.84970  0.0   18.1  0.770  6.395  91.0  2.5052   24  666    20.2  13.27   \n",
      "29   5.20177  0.0   18.1  0.770  6.127  83.4  2.7227   24  666    20.2  11.48   \n",
      "30   4.22239  0.0   18.1  0.770  5.803  89.0  1.9047   24  666    20.2  14.64   \n",
      "31   3.47428  0.0   18.1  0.718  8.780  82.9  1.9047   24  666    20.2   5.29   \n",
      "32   5.66998  0.0   18.1  0.631  6.683  96.8  1.3567   24  666    20.2   3.73   \n",
      "33   6.53876  0.0   18.1  0.631  7.016  97.5  1.2024   24  666    20.2   2.96   \n",
      "34   8.26725  0.0   18.1  0.668  5.875  89.6  1.1296   24  666    20.2   8.88   \n",
      "364  4.26131  0.0   18.1  0.770  6.112  81.3  2.5091   24  666    20.2  12.67   \n",
      "365  4.54192  0.0   18.1  0.770  6.398  88.0  2.5182   24  666    20.2   7.79   \n",
      "\n",
      "     RIVER_Yes  \n",
      "27           1  \n",
      "28           1  \n",
      "29           1  \n",
      "30           1  \n",
      "31           1  \n",
      "32           1  \n",
      "33           1  \n",
      "34           1  \n",
      "364          0  \n",
      "365          0  \n",
      "     MEDV\n",
      "27   17.8\n",
      "28   21.7\n",
      "29   22.7\n",
      "30   16.8\n",
      "31   21.9\n",
      "32   50.0\n",
      "33   50.0\n",
      "34   50.0\n",
      "364  22.6\n",
      "365  25.0\n",
      "137\n",
      "137\n"
     ]
    }
   ],
   "source": [
    "target_name = list(['MEDV'])\n",
    "housing_target2 = datHousingC2[target_name]\n",
    "datHousingSub2 = datHousingC2.drop(['MEDV', 'Cluster'], axis=1)\n",
    "\n",
    "print(datHousingSub2.head(10))\n",
    "print(housing_target2.head(10))\n",
    "print (len(datHousingSub2))\n",
    "print (len(housing_target2))"
   ]
  },
  {
   "cell_type": "code",
   "execution_count": 61,
   "metadata": {},
   "outputs": [
    {
     "name": "stdout",
     "output_type": "stream",
     "text": [
      "shape of training data independent vars (x)\n",
      "(95, 12)\n",
      "shape of test data independent vars (x)\n",
      "(42, 12)\n",
      "shape of train data dependent vars (y)\n",
      "(95, 1)\n",
      "shape of test data dependent vars (y)\n",
      "(42, 1)\n",
      "r_sqr value: 0.6735080000289209\n",
      "Cluster1 Regression Model Results:\n",
      "RMSE train: 4.709, test: 5.020\n",
      "R^2 train: 0.674, test: 0.677\n"
     ]
    }
   ],
   "source": [
    "X_train, X_test, y_train, y_test = train_test_split(datHousingSub2, housing_target2, test_size=0.30, random_state=25)\n",
    "print('shape of training data independent vars (x)')\n",
    "print(X_train.shape)\n",
    "print('shape of test data independent vars (x)')\n",
    "print(X_test.shape)\n",
    "print('shape of train data dependent vars (y)')\n",
    "print(y_train.shape)\n",
    "print('shape of test data dependent vars (y)')\n",
    "print(y_test.shape)\n",
    "regressor = LinearRegression(fit_intercept = True) # instantiate the Linear Regression model\n",
    "regressor.fit(X_train, y_train) # train the model\n",
    "print(f'r_sqr value: {regressor.score(X_train, y_train)}')\n",
    "y_train_pred = regressor.predict(X_train)\n",
    "y_test_pred = regressor.predict(X_test)\n",
    "print(\"Cluster1 Regression Model Results:\")\n",
    "print('RMSE train: %.3f, test: %.3f' % (\n",
    "        sqrt(mean_squared_error(y_train, y_train_pred)),\n",
    "        sqrt(mean_squared_error(y_test, y_test_pred))))\n",
    "print('R^2 train: %.3f, test: %.3f' % (\n",
    "        r2_score(y_train, y_train_pred),\n",
    "        r2_score(y_test, y_test_pred)))"
   ]
  },
  {
   "cell_type": "markdown",
   "metadata": {},
   "source": [
    "###### Baseline Regression Model Results:\n",
    "###### RMSE train: 4.730, test: 4.843\n",
    "###### R^2 train: 0.723, test: 0.746\n",
    "What are the R2 value and MSE? Is this higher or lower than the baseline model? These are lower than base line model as we can see this model performs worse than the baseline at accurately predicting the data relevant to cluster 2 which in this case, would be the data we had a less amount of our \"urban area = 1\"."
   ]
  },
  {
   "cell_type": "markdown",
   "metadata": {},
   "source": [
    "###### 12. Summarize your findings. Do you think that clustering might improve your ability to predict the MEDV value? If so, under what contexts or constraints?\n",
    "Clustering can improve the predictive power of a model as we can see in this example which may be due to the amount of data points vs 0 and 1 cluster giving better predictive power to the underlying factors that influence the target variable (MEDV) within different clusters. In this case:\n",
    "\n",
    "For suburban areas, the clustering improved the ability to predict MEDV.\n",
    "\n",
    "For urban areas, where the data maybe be more complex or less of, clustering did not improve the model’s predictive performance."
   ]
  },
  {
   "cell_type": "code",
   "execution_count": null,
   "metadata": {},
   "outputs": [],
   "source": []
  }
 ],
 "metadata": {
  "kernelspec": {
   "display_name": "Python 3 (ipykernel)",
   "language": "python",
   "name": "python3"
  },
  "language_info": {
   "codemirror_mode": {
    "name": "ipython",
    "version": 3
   },
   "file_extension": ".py",
   "mimetype": "text/x-python",
   "name": "python",
   "nbconvert_exporter": "python",
   "pygments_lexer": "ipython3",
   "version": "3.12.7"
  }
 },
 "nbformat": 4,
 "nbformat_minor": 4
}
